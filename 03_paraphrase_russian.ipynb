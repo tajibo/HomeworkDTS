{
  "cells": [
    {
      "cell_type": "markdown",
      "metadata": {
        "id": "view-in-github",
        "colab_type": "text"
      },
      "source": [
        "<a href=\"https://colab.research.google.com/github/tajibo/HomeworkDTS/blob/main/03_paraphrase_russian.ipynb\" target=\"_parent\"><img src=\"https://colab.research.google.com/assets/colab-badge.svg\" alt=\"Open In Colab\"/></a>"
      ]
    },
    {
      "cell_type": "markdown",
      "metadata": {
        "id": "hqUgSjUyYKUX"
      },
      "source": [
        "# Парафраз русских предложений с Hugging Face\n",
        "Этот блокнот использует модель `cointegrated/rut5-base-paraphraser` для перефразирования русских текстов.\n",
        "Также используется датасет `russian-superglue/ru_paraphraser` для проверки качества модели."
      ]
    },
    {
      "cell_type": "code",
      "metadata": {
        "ExecuteTime": {
          "end_time": "2025-02-13T02:37:17.471095Z",
          "start_time": "2025-02-13T02:37:16.665308Z"
        },
        "id": "HFf3vb3SYKUZ"
      },
      "source": [
        "# Установка библиотек\n",
        "# !pip install transformers datasets torch\n",
        "!pip install transformers datasets"
      ],
      "outputs": [],
      "execution_count": null
    },
    {
      "cell_type": "markdown",
      "metadata": {
        "id": "5GaufTOAYKUb"
      },
      "source": [
        "## 1. Загрузка датасета"
      ]
    },
    {
      "cell_type": "code",
      "metadata": {
        "ExecuteTime": {
          "end_time": "2025-02-13T03:14:47.141690Z",
          "start_time": "2025-02-13T03:14:33.402512Z"
        },
        "id": "e_zyTtuIYKUb"
      },
      "source": [
        "from datasets import load_dataset\n",
        "\n",
        "# Загружаем датасет\n",
        "dataset = load_dataset(\"merionum/ru_paraphraser\")\n",
        "\n",
        "# Проверяем структуру\n",
        "print(dataset)"
      ],
      "outputs": [],
      "execution_count": null
    },
    {
      "metadata": {
        "ExecuteTime": {
          "end_time": "2025-02-13T03:17:19.551405Z",
          "start_time": "2025-02-13T03:17:19.548129Z"
        },
        "id": "DDXlvWOoYKUb"
      },
      "cell_type": "code",
      "source": [
        "dataset[\"train\"][10]"
      ],
      "outputs": [],
      "execution_count": null
    },
    {
      "metadata": {
        "ExecuteTime": {
          "end_time": "2025-02-13T03:17:46.960190Z",
          "start_time": "2025-02-13T03:17:46.956809Z"
        },
        "id": "TF_YpHdXYKUb"
      },
      "cell_type": "code",
      "source": [
        "dataset[\"train\"][0]"
      ],
      "outputs": [],
      "execution_count": null
    },
    {
      "cell_type": "markdown",
      "metadata": {
        "id": "OSgsc70cYKUc"
      },
      "source": [
        "## 2. Фильтрация данных (только правильные парафразы)"
      ]
    },
    {
      "cell_type": "code",
      "metadata": {
        "ExecuteTime": {
          "end_time": "2025-02-13T03:21:31.699059Z",
          "start_time": "2025-02-13T03:21:31.627965Z"
        },
        "id": "xLsWNgAuYKUc"
      },
      "source": [
        "# Фильтруем только примеры, где label = 1 (парафраз)\n",
        "train_data = dataset[\"train\"].filter(lambda x: x[\"class\"] == '1')\n",
        "test_data = dataset[\"test\"].filter(lambda x: x[\"class\"] == '1')\n",
        "\n",
        "# Выводим пример\n",
        "print(f\"Количество примеров: {len(train_data)}\")\n",
        "print(train_data.shape)"
      ],
      "outputs": [],
      "execution_count": null
    },
    {
      "cell_type": "markdown",
      "metadata": {
        "id": "IjsYuDnYYKUc"
      },
      "source": [
        "## 3. Использование `pipeline` для парафраза"
      ]
    },
    {
      "cell_type": "code",
      "metadata": {
        "ExecuteTime": {
          "end_time": "2025-02-13T03:24:46.662027Z",
          "start_time": "2025-02-13T03:21:39.534830Z"
        },
        "id": "blRj_kSOYKUd"
      },
      "source": [
        "from transformers import pipeline\n",
        "\n",
        "# Загружаем pipeline для парафраза\n",
        "paraphraser = pipeline(\"text2text-generation\", model=\"cointegrated/rut5-base-paraphraser\")\n",
        "\n",
        "# Пример работы модели\n",
        "text = \"Я собираюсь поехать в Москву завтра.\"\n",
        "result = paraphraser(text, max_length=50, num_return_sequences=1)\n",
        "\n",
        "print(\"Исходное:\", text)\n",
        "print(\"Перефразированное:\", result[0][\"generated_text\"])"
      ],
      "outputs": [],
      "execution_count": null
    },
    {
      "cell_type": "markdown",
      "metadata": {
        "id": "iaDFwe93YKUd"
      },
      "source": [
        "## 4. Проверка модели на тестовом датасете"
      ]
    },
    {
      "cell_type": "code",
      "execution_count": null,
      "metadata": {
        "id": "C03Z1HCBYKUd"
      },
      "outputs": [],
      "source": [
        "correct = 0\n",
        "total = 5  # Берем 5 примеров для теста\n",
        "\n",
        "for i in range(total):\n",
        "    original = test_data[i][\"text_1\"]\n",
        "    expected = test_data[i][\"text_2\"]\n",
        "\n",
        "    # Генерируем парафраз\n",
        "    generated = paraphraser(original, max_length=50, num_return_sequences=1)[0][\"generated_text\"]\n",
        "\n",
        "    print(f\" Исходное: {original}\")\n",
        "    print(f\"Ожидаемое: {expected}\")\n",
        "    print(f\"Сгенерированное: {generated}\")"
      ]
    },
    {
      "cell_type": "markdown",
      "metadata": {
        "id": "AMWqoyudYKUd"
      },
      "source": [
        "## Вывод\n",
        "- Использовали датасет `ru_paraphraser` с Hugging Face.\n",
        "- Фильтровали правильные примеры (class=\"1\").\n",
        "- Использовали `pipeline` для парафраза.\n",
        "- Проверили качество модели на тестовых примерах.\n",
        "\n",
        "Теперь можно **использовать код для генерации русских парафраз**!\n",
        "\n",
        "\n",
        "# ЗАДАНИЕ\n",
        "Допишите оценку модели по метрике ROUGE"
      ]
    },
    {
      "cell_type": "code",
      "source": [
        "import evaluate\n",
        "\n",
        "# Загружаем метрику ROUGE\n",
        "rouge = evaluate.load(\"rouge\")\n",
        "\n",
        "# Количество тестовых примеров, по которым проводим оценку\n",
        "total = 20  # можно увеличить для более надежной оценки\n",
        "\n",
        "predictions = []\n",
        "references = []\n",
        "\n",
        "for i in range(total):\n",
        "    original = test_data[i][\"text_1\"]\n",
        "    expected = test_data[i][\"text_2\"]\n",
        "\n",
        "    # Генерируем парафразу\n",
        "    generated = paraphraser(original, max_length=50, num_return_sequences=1)[0][\"generated_text\"]\n",
        "\n",
        "    predictions.append(generated)\n",
        "    references.append(expected)\n",
        "\n",
        "    print(f\"Исходное: {original}\")\n",
        "    print(f\"Ожидаемое: {expected}\")\n",
        "    print(f\"Сгенерированное: {generated}\\n\")\n",
        "\n",
        "# Вычисляем метрики ROUGE\n",
        "results = rouge.compute(predictions=predictions, references=references)\n",
        "print(\"Результаты ROUGE:\")\n",
        "for key, value in results.items():\n",
        "    print(f\"  {key}: {value:.4f}\")\n"
      ],
      "metadata": {
        "id": "PT89ZLu_CjAo"
      },
      "execution_count": null,
      "outputs": []
    }
  ],
  "metadata": {
    "kernelspec": {
      "display_name": "Python 3",
      "name": "python3"
    },
    "language_info": {
      "codemirror_mode": {
        "name": "ipython",
        "version": 3
      },
      "file_extension": ".py",
      "mimetype": "text/x-python",
      "name": "python",
      "nbconvert_exporter": "python",
      "pygments_lexer": "ipython3",
      "version": "3.8.10"
    },
    "colab": {
      "provenance": [],
      "gpuType": "T4",
      "include_colab_link": true
    },
    "accelerator": "GPU"
  },
  "nbformat": 4,
  "nbformat_minor": 0
}